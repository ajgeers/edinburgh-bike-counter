{
 "cells": [
  {
   "cell_type": "markdown",
   "metadata": {},
   "source": [
    "# Edinburgh bike counter\n",
    "\n",
    "Arjan Geers\n",
    "\n",
    "Analysis of [Edinburgh bike counter data](https://data.edinburghopendata.info/dataset/bike-counter-data-set-cluster)."
   ]
  },
  {
   "cell_type": "markdown",
   "metadata": {},
   "source": [
    "## Preamble"
   ]
  },
  {
   "cell_type": "code",
   "execution_count": null,
   "metadata": {},
   "outputs": [],
   "source": [
    "%load_ext autoreload\n",
    "%autoreload 2"
   ]
  },
  {
   "cell_type": "code",
   "execution_count": null,
   "metadata": {},
   "outputs": [],
   "source": [
    "import calendar\n",
    "import math\n",
    "import matplotlib\n",
    "import matplotlib.pyplot as plt\n",
    "import numpy as np\n",
    "import pandas as pd\n",
    "\n",
    "from bikecounter.data import get_edinburgh_bike_counter_data"
   ]
  },
  {
   "cell_type": "code",
   "execution_count": null,
   "metadata": {},
   "outputs": [],
   "source": [
    "from pandas.plotting import register_matplotlib_converters\n",
    "register_matplotlib_converters()\n",
    "\n",
    "%matplotlib inline\n",
    "plt.style.use('seaborn')"
   ]
  },
  {
   "cell_type": "markdown",
   "metadata": {},
   "source": [
    "## Get data"
   ]
  },
  {
   "cell_type": "markdown",
   "metadata": {},
   "source": [
    "Download and read the data of all bike counters. Each counter has one or more 'channels', which correspond to directions such as northbound and southbound. For now, we'll just consider the total count across all channels."
   ]
  },
  {
   "cell_type": "code",
   "execution_count": null,
   "metadata": {
    "scrolled": false
   },
   "outputs": [],
   "source": [
    "df = get_edinburgh_bike_counter_data()\n",
    "df.tail()"
   ]
  },
  {
   "cell_type": "code",
   "execution_count": null,
   "metadata": {},
   "outputs": [],
   "source": [
    "# Define variables for later convenience\n",
    "daily = df.resample('D').sum()\n",
    "counters = list(df.columns)\n",
    "n_counters = len(counters)\n",
    "n_cols = 5  # for grid plots\n",
    "n_rows = math.ceil(n_counters / n_cols)  # for grid plots"
   ]
  },
  {
   "cell_type": "markdown",
   "metadata": {},
   "source": [
    "## Bike counter operating days"
   ]
  },
  {
   "cell_type": "markdown",
   "metadata": {},
   "source": [
    "When were the bike counters turned on and counting bikes?"
   ]
  },
  {
   "cell_type": "code",
   "execution_count": null,
   "metadata": {},
   "outputs": [],
   "source": [
    "def get_datetime_ranges(datetimes, bin_size='D'):\n",
    "    \"\"\"Given a list of sorted datetimes, return a list\n",
    "    of datetime ranges [(start, end), (...)] that\n",
    "    correspond to periods without gaps at the bin_size\n",
    "    resolution.\n",
    "    \n",
    "    \"\"\"\n",
    "    datetime_ranges = []\n",
    "    start = datetimes[0]\n",
    "    for i in range(1, len(datetimes)):\n",
    "        if (datetimes[i].to_period(bin_size) -\n",
    "            datetimes[i - 1].to_period(bin_size)).n > 1:\n",
    "            end = datetimes[i - 1]\n",
    "            datetime_ranges.append((start, end))\n",
    "            start = datetimes[i]\n",
    "    end = datetimes[-1]\n",
    "    datetime_ranges.append((start, end))\n",
    "    return datetime_ranges"
   ]
  },
  {
   "cell_type": "code",
   "execution_count": null,
   "metadata": {},
   "outputs": [],
   "source": [
    "fig, ax = plt.subplots(figsize=(8, 12))\n",
    "for y, counter in enumerate(counters):\n",
    "    operating_days = daily[counter].loc[daily[counter] > 0].index\n",
    "    operating_day_ranges = get_datetime_ranges(operating_days, bin_size='D')\n",
    "    for operating_day_range in operating_day_ranges:\n",
    "        ax.hlines(y, operating_day_range[0], operating_day_range[1])\n",
    "\n",
    "ax.set_title('Bike counter operating days')\n",
    "plt.yticks(range(n_counters), counters);"
   ]
  },
  {
   "cell_type": "markdown",
   "metadata": {},
   "source": [
    "We see two distinct sets of bike counters. In early 2015, the first set stopped operating and the second started. Only two bike counters span the entire time period. We also see there are many large and small data gaps.\n",
    "\n",
    "Are there any days of the week on which the bike counters were operating less (or more)?"
   ]
  },
  {
   "cell_type": "code",
   "execution_count": null,
   "metadata": {},
   "outputs": [],
   "source": [
    "fig, ax = plt.subplots(n_rows, n_cols, figsize=(16, 16))\n",
    "for i, counter in enumerate(counters):\n",
    "    current_ax = ax[i // n_cols][i % n_cols]\n",
    "    operating_days = daily[counter].loc[daily[counter] > 0].index\n",
    "    operating_dayofweek_counts = operating_days.dayofweek.value_counts().sort_index()\n",
    "    operating_dayofweek_counts.plot(ax=current_ax,\n",
    "                                    kind='bar',\n",
    "                                    title=counter,\n",
    "                                    ylim=(0, 350))\n",
    "    current_ax.set_xticklabels(list(calendar.day_abbr), rotation=0);\n",
    "    \n",
    "fig.suptitle('Distribution of operating days over the days of the week', y=1.02)\n",
    "plt.tight_layout()"
   ]
  },
  {
   "cell_type": "markdown",
   "metadata": {},
   "source": [
    "All days appear to be equally represented in the dataset, so we can just average over all available data to look at hourly and daily trends."
   ]
  },
  {
   "cell_type": "markdown",
   "metadata": {},
   "source": [
    "## Hourly and daily trends"
   ]
  },
  {
   "cell_type": "markdown",
   "metadata": {},
   "source": [
    "Let's look at the hourly trend first."
   ]
  },
  {
   "cell_type": "code",
   "execution_count": null,
   "metadata": {},
   "outputs": [],
   "source": [
    "hourly_trend = df.pivot_table(index=df.index.hour, aggfunc='mean')\n",
    "\n",
    "fig, ax = plt.subplots(n_rows, n_cols, figsize=(16, 16))\n",
    "for i, counter in enumerate(counters):\n",
    "    current_ax = ax[i // n_cols][i % n_cols]\n",
    "    hourly_trend[counter].plot(ax=current_ax,\n",
    "                               title=counter,\n",
    "                               ylim=(0, 125))\n",
    "    \n",
    "fig.suptitle('Hourly trend of bike activity', y=1.02)\n",
    "plt.tight_layout()"
   ]
  },
  {
   "cell_type": "markdown",
   "metadata": {},
   "source": [
    "By keeping the limits of the y-axis the same, we can easily see that some roads are much busier than others. Nearly all roads show a bimodal traffic pattern with a peak in the morning and a peak in the afternoon, corresponding to rush hour.\n",
    "\n",
    "How about the daily trend?"
   ]
  },
  {
   "cell_type": "code",
   "execution_count": null,
   "metadata": {},
   "outputs": [],
   "source": [
    "daily_trend = df.pivot_table(index=df.index.dayofweek, aggfunc='mean')\n",
    "\n",
    "fig, ax = plt.subplots(n_rows, n_cols, figsize=(16, 16))\n",
    "for i, counter in enumerate(counters):\n",
    "    current_ax = ax[i // n_cols][i % n_cols]\n",
    "    daily_trend[counter].plot(ax=current_ax,\n",
    "                              kind='bar',\n",
    "                              title=counter)\n",
    "    current_ax.set_xticklabels(list(calendar.day_abbr), rotation=0);\n",
    "    \n",
    "fig.suptitle('Daily trend of bike activity', y=1.02)\n",
    "plt.tight_layout()"
   ]
  },
  {
   "cell_type": "markdown",
   "metadata": {},
   "source": [
    "Note that we use flexible y-axis limits to highlight the relative variation throughout the week. We see that for most counters the bike activity is much higher on weekdays than in the weekend. Silverknowes, Cramond, and Dalmeny - to the northwest of Edinburgh - are more popular with cyclists in the weekend. "
   ]
  }
 ],
 "metadata": {
  "kernelspec": {
   "display_name": "Python 3",
   "language": "python",
   "name": "python3"
  },
  "language_info": {
   "codemirror_mode": {
    "name": "ipython",
    "version": 3
   },
   "file_extension": ".py",
   "mimetype": "text/x-python",
   "name": "python",
   "nbconvert_exporter": "python",
   "pygments_lexer": "ipython3",
   "version": "3.7.3"
  }
 },
 "nbformat": 4,
 "nbformat_minor": 2
}
