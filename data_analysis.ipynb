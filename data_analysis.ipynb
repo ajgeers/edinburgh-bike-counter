{
 "cells": [
  {
   "cell_type": "markdown",
   "metadata": {},
   "source": [
    "# Edinburgh bike counter\n",
    "\n",
    "Arjan Geers\n",
    "\n",
    "Analysis of [Edinburgh bike counter data](https://data.edinburghopendata.info/dataset/bike-counter-data-set-cluster)."
   ]
  },
  {
   "cell_type": "markdown",
   "metadata": {},
   "source": [
    "## Preamble"
   ]
  },
  {
   "cell_type": "code",
   "execution_count": null,
   "metadata": {},
   "outputs": [],
   "source": [
    "%load_ext autoreload\n",
    "%autoreload 2"
   ]
  },
  {
   "cell_type": "code",
   "execution_count": null,
   "metadata": {},
   "outputs": [],
   "source": [
    "import calendar\n",
    "import math\n",
    "import matplotlib\n",
    "import matplotlib.pyplot as plt\n",
    "import numpy as np\n",
    "import pandas as pd\n",
    "from sklearn.decomposition import PCA\n",
    "from sklearn.mixture import GaussianMixture\n",
    "\n",
    "from bikecounter.data import get_edinburgh_bike_counter_data"
   ]
  },
  {
   "cell_type": "code",
   "execution_count": null,
   "metadata": {},
   "outputs": [],
   "source": [
    "# Plot settings\n",
    "from pandas.plotting import register_matplotlib_converters\n",
    "register_matplotlib_converters()\n",
    "\n",
    "plt.style.use('seaborn')\n",
    "TITLE_FONTSIZE = 16\n",
    "\n",
    "%matplotlib inline"
   ]
  },
  {
   "cell_type": "markdown",
   "metadata": {},
   "source": [
    "## Get data"
   ]
  },
  {
   "cell_type": "markdown",
   "metadata": {},
   "source": [
    "Download and read the data of all bike counters. Each counter has one or more 'channels', which correspond to the cycling direction. However, the actual direction is not specified in the data. For now, we'll just consider the total count across all channels and forget about direction."
   ]
  },
  {
   "cell_type": "code",
   "execution_count": null,
   "metadata": {
    "scrolled": false
   },
   "outputs": [],
   "source": [
    "hourly = get_edinburgh_bike_counter_data()\n",
    "hourly.tail()"
   ]
  },
  {
   "cell_type": "code",
   "execution_count": null,
   "metadata": {},
   "outputs": [],
   "source": [
    "# Define variables for later convenience\n",
    "daily = hourly.resample('D').sum().replace(0, np.NaN)\n",
    "counters = list(hourly.columns)\n",
    "n_counters = len(counters)\n",
    "n_cols = 5  # for grid plots\n",
    "n_rows = math.ceil(n_counters / n_cols)  # for grid plots"
   ]
  },
  {
   "cell_type": "markdown",
   "metadata": {},
   "source": [
    "## Bike counter operating days"
   ]
  },
  {
   "cell_type": "markdown",
   "metadata": {},
   "source": [
    "When were the bike counters turned on and counting bikes?"
   ]
  },
  {
   "cell_type": "code",
   "execution_count": null,
   "metadata": {},
   "outputs": [],
   "source": [
    "def get_datetime_ranges(datetimes, bin_size='D'):\n",
    "    \"\"\"Given a list of sorted datetimes, return a list\n",
    "    of datetime ranges [(start, end), (...)] that\n",
    "    correspond to periods without gaps at the bin_size\n",
    "    resolution.\n",
    "    \n",
    "    \"\"\"\n",
    "    datetime_ranges = []\n",
    "    start = datetimes[0]\n",
    "    for i in range(1, len(datetimes)):\n",
    "        if (datetimes[i].to_period(bin_size) -\n",
    "            datetimes[i - 1].to_period(bin_size)).n > 1:\n",
    "            end = datetimes[i - 1]\n",
    "            datetime_ranges.append((start, end))\n",
    "            start = datetimes[i]\n",
    "    end = datetimes[-1]\n",
    "    datetime_ranges.append((start, end))\n",
    "    return datetime_ranges"
   ]
  },
  {
   "cell_type": "code",
   "execution_count": null,
   "metadata": {},
   "outputs": [],
   "source": [
    "fig, ax = plt.subplots(figsize=(8, 12))\n",
    "for y, counter in enumerate(counters):\n",
    "    operating_days = daily[counter].dropna().index\n",
    "    operating_day_ranges = get_datetime_ranges(operating_days, bin_size='D')\n",
    "    for operating_day_range in operating_day_ranges:\n",
    "        ax.hlines(y, operating_day_range[0], operating_day_range[1])\n",
    "\n",
    "ax.set_title('Bike counter operating days', fontsize=TITLE_FONTSIZE)\n",
    "plt.yticks(range(n_counters), counters);"
   ]
  },
  {
   "cell_type": "markdown",
   "metadata": {},
   "source": [
    "We see two distinct sets of bike counters. In early 2015, the first set stopped operating and the second started. Only two bike counters span the entire time period. We also see there are many large and small data gaps.\n",
    "\n",
    "Are there any days of the week on which the bike counters were operating less (or more)?"
   ]
  },
  {
   "cell_type": "code",
   "execution_count": null,
   "metadata": {},
   "outputs": [],
   "source": [
    "fig, ax = plt.subplots(n_rows, n_cols, figsize=(16, 16))\n",
    "for i, counter in enumerate(counters):\n",
    "    current_ax = ax[i // n_cols][i % n_cols]\n",
    "    operating_days = daily[counter].dropna().index\n",
    "    operating_dayofweek_counts = operating_days.dayofweek.value_counts().sort_index()\n",
    "    operating_dayofweek_counts.plot(ax=current_ax,\n",
    "                                    kind='bar',\n",
    "                                    title=counter,\n",
    "                                    ylim=(0, 350))\n",
    "    current_ax.set_xticklabels(list(calendar.day_abbr), rotation=0);\n",
    "    \n",
    "fig.suptitle('Distribution of operating days over the days of the week', y=1.02, fontsize=TITLE_FONTSIZE)\n",
    "plt.tight_layout()"
   ]
  },
  {
   "cell_type": "markdown",
   "metadata": {},
   "source": [
    "All days appear to be equally represented in the dataset, so we can just average over all available data to look at hourly and daily trends."
   ]
  },
  {
   "cell_type": "markdown",
   "metadata": {},
   "source": [
    "## Hourly and daily trends"
   ]
  },
  {
   "cell_type": "markdown",
   "metadata": {},
   "source": [
    "Let's look at the hourly trend first."
   ]
  },
  {
   "cell_type": "code",
   "execution_count": null,
   "metadata": {},
   "outputs": [],
   "source": [
    "hourly_trend = hourly.pivot_table(index=hourly.index.hour, aggfunc='mean')\n",
    "\n",
    "fig, ax = plt.subplots(n_rows, n_cols, figsize=(16, 16))\n",
    "for i, counter in enumerate(counters):\n",
    "    current_ax = ax[i // n_cols][i % n_cols]\n",
    "    hourly_trend[counter].plot(ax=current_ax,\n",
    "                               title=counter,\n",
    "                               ylim=(0, 125))\n",
    "    \n",
    "fig.suptitle('Hourly trend of bike activity', y=1.02, fontsize=TITLE_FONTSIZE)\n",
    "plt.tight_layout()"
   ]
  },
  {
   "cell_type": "markdown",
   "metadata": {},
   "source": [
    "By keeping the limits of the y-axis the same, we can easily see that some roads are much busier than others. Nearly all roads show a bimodal traffic pattern with a peak in the morning and a peak in the afternoon, corresponding to rush hour. On Bruntsfield Place, the separate counters for the northbound (into the city) and southbound (out of the city) directions show relatively large peaks going into the city in the morning and out of the city in the afternoon, which matches our expectation of commuting flows. If we were to look further into cycling direction, we would have to consider the bike counter channels separately and 'guess' the direction.\n",
    "\n",
    "How about the daily trend?"
   ]
  },
  {
   "cell_type": "code",
   "execution_count": null,
   "metadata": {},
   "outputs": [],
   "source": [
    "daily_trend = daily.pivot_table(index=daily.index.dayofweek, aggfunc='mean')\n",
    "\n",
    "fig, ax = plt.subplots(n_rows, n_cols, figsize=(16, 16))\n",
    "for i, counter in enumerate(counters):\n",
    "    current_ax = ax[i // n_cols][i % n_cols]\n",
    "    daily_trend[counter].plot(ax=current_ax,\n",
    "                              kind='bar',\n",
    "                              title=counter)\n",
    "    current_ax.set_xticklabels(list(calendar.day_abbr), rotation=0);\n",
    "    \n",
    "fig.suptitle('Daily trend of bike activity', y=1.02, fontsize=TITLE_FONTSIZE)\n",
    "plt.tight_layout()"
   ]
  },
  {
   "cell_type": "markdown",
   "metadata": {},
   "source": [
    "Note that we use flexible y-axis limits to highlight the relative variation throughout the week. We see that for most counters the bike activity is much higher on weekdays than in the weekend. Silverknowes, Cramond, and Dalmeny - in a lovely area to the northwest of Edinburgh - are more popular with cyclists in the weekend. "
   ]
  },
  {
   "cell_type": "markdown",
   "metadata": {},
   "source": [
    "## Unsupervised clustering"
   ]
  },
  {
   "cell_type": "markdown",
   "metadata": {},
   "source": [
    "In this section, we will closely follow the approach described [here](https://jakevdp.github.io/blog/2015/07/23/learning-seattles-work-habits-from-bicycle-counts/) to cluster days of data measured by one of the bike counters. The example we'll pick is from Portobello Promenade, a cycle(able) path along the beach that I occasionally used to get to and from work.\n",
    "\n",
    "Note that we'll reuse some of the variable names in the code. `hourly` will from now on contain data of only one counter instead of all of them."
   ]
  },
  {
   "cell_type": "code",
   "execution_count": null,
   "metadata": {},
   "outputs": [],
   "source": [
    "COUNTER_NAME = '20portobellopromeast'\n",
    "\n",
    "hourly_all = hourly.copy()  # keep original dataset with all counters\n",
    "hourly = pd.DataFrame(hourly_all[COUNTER_NAME].dropna())"
   ]
  },
  {
   "cell_type": "markdown",
   "metadata": {},
   "source": [
    "First we transform the data to a 2D matrix with days as rows and hours as columns."
   ]
  },
  {
   "cell_type": "code",
   "execution_count": null,
   "metadata": {},
   "outputs": [],
   "source": [
    "hourly_pivoted = hourly.pivot_table(index=hourly.index.date,\n",
    "                                    columns=hourly.index.hour,\n",
    "                                    fill_value=0)\n",
    "X = hourly_pivoted.values"
   ]
  },
  {
   "cell_type": "markdown",
   "metadata": {},
   "source": [
    "We then reduce the dimensionality of the matrix from 24 to 2 using principal component analysis (PCA), so we can create a scatter plot and visually look for clusters. As you can see below, the 2 components we get still preserve 81% of the variance in the dataset."
   ]
  },
  {
   "cell_type": "code",
   "execution_count": null,
   "metadata": {},
   "outputs": [],
   "source": [
    "pca = PCA(2)\n",
    "Xpca = pca.fit_transform(X)\n",
    "print(f'Preserved variance with 2 components: {pca.explained_variance_ratio_.sum():.3f}')"
   ]
  },
  {
   "cell_type": "code",
   "execution_count": null,
   "metadata": {},
   "outputs": [],
   "source": [
    "fig, ax = plt.subplots(figsize=(6, 6))\n",
    "ax.scatter(Xpca[:, 0], Xpca[:, 1]);"
   ]
  },
  {
   "cell_type": "markdown",
   "metadata": {},
   "source": [
    "We see that the days can be nicely split in two clusters. We'll use a Gaussian Mixture model to automatically label the points."
   ]
  },
  {
   "cell_type": "code",
   "execution_count": null,
   "metadata": {},
   "outputs": [],
   "source": [
    "gmm = GaussianMixture(2, covariance_type='full', random_state=0)\n",
    "gmm.fit(Xpca)\n",
    "cluster_label = gmm.predict(Xpca)"
   ]
  },
  {
   "cell_type": "code",
   "execution_count": null,
   "metadata": {},
   "outputs": [],
   "source": [
    "fig, ax = plt.subplots(figsize=(6, 6))\n",
    "ax.scatter(Xpca[:, 0], Xpca[:, 1], c=cluster_label, cmap='Set1');"
   ]
  },
  {
   "cell_type": "markdown",
   "metadata": {},
   "source": [
    "Not bad. The red points belong to cluster 0, the gray ones to cluster 1. Let's see what the hourly trends look like for the two clusters.  "
   ]
  },
  {
   "cell_type": "code",
   "execution_count": null,
   "metadata": {},
   "outputs": [],
   "source": [
    "hourly_pivoted['cluster'] = cluster_label\n",
    "hourly_labeled = hourly.join(hourly_pivoted['cluster'], on=hourly.index.date)\n",
    "hourly_trend = hourly_labeled.groupby(['cluster', hourly_labeled.index.hour]).mean()"
   ]
  },
  {
   "cell_type": "code",
   "execution_count": null,
   "metadata": {},
   "outputs": [],
   "source": [
    "fig, ax = plt.subplots(1, 2, figsize=(16, 6))\n",
    "\n",
    "for i in range(2):\n",
    "    hourly_trend.loc[i].plot(ax=ax[i], legend=False)\n",
    "    ax[i].set_title(f'cluster {i}')"
   ]
  },
  {
   "cell_type": "markdown",
   "metadata": {},
   "source": [
    "Nice! Cluster 0 shows the typical commuting flows from weekdays while cluster 1 shows the more recreational cycling you'd expect to see in the weekend. We can confirm this by coloring the scatter plot points by day of the week. "
   ]
  },
  {
   "cell_type": "code",
   "execution_count": null,
   "metadata": {},
   "outputs": [],
   "source": [
    "dayofweek = pd.to_datetime(hourly_pivoted.index).dayofweek\n",
    "\n",
    "fig, ax = plt.subplots(figsize=(8, 6))\n",
    "s = ax.scatter(Xpca[:, 0], Xpca[:, 1], c=dayofweek,\n",
    "               cmap=plt.cm.get_cmap('jet', 7))\n",
    "cb = fig.colorbar(s, ticks=range(7))\n",
    "cb.set_ticklabels(['Mon', 'Tue', 'Wed', 'Thu', 'Fri', 'Sat', 'Sun'])\n",
    "s.set_clim(-0.5, 6.5);"
   ]
  },
  {
   "cell_type": "markdown",
   "metadata": {},
   "source": [
    "Cluster 1 is indeed dominated by weekend days."
   ]
  }
 ],
 "metadata": {
  "kernelspec": {
   "display_name": "Python 3",
   "language": "python",
   "name": "python3"
  },
  "language_info": {
   "codemirror_mode": {
    "name": "ipython",
    "version": 3
   },
   "file_extension": ".py",
   "mimetype": "text/x-python",
   "name": "python",
   "nbconvert_exporter": "python",
   "pygments_lexer": "ipython3",
   "version": "3.7.3"
  }
 },
 "nbformat": 4,
 "nbformat_minor": 2
}
