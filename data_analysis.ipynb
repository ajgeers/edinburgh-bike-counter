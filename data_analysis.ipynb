{
 "cells": [
  {
   "cell_type": "markdown",
   "metadata": {},
   "source": [
    "# Edinburgh bike counter\n",
    "\n",
    "Arjan Geers\n",
    "\n",
    "Analysis of [bike counter data](https://data.edinburghopendata.info/dataset/bike-counter-data-set-cluster) provided by The City of Edinburgh Council."
   ]
  },
  {
   "cell_type": "markdown",
   "metadata": {},
   "source": [
    "## Preamble"
   ]
  },
  {
   "cell_type": "code",
   "execution_count": null,
   "metadata": {},
   "outputs": [],
   "source": [
    "%load_ext autoreload\n",
    "%autoreload 2"
   ]
  },
  {
   "cell_type": "code",
   "execution_count": null,
   "metadata": {},
   "outputs": [],
   "source": [
    "import calendar\n",
    "import math\n",
    "import matplotlib\n",
    "import matplotlib.pyplot as plt\n",
    "import numpy as np\n",
    "import pandas as pd\n",
    "from sklearn.decomposition import PCA\n",
    "from sklearn.mixture import GaussianMixture\n",
    "\n",
    "from bikecounter.data import get_edinburgh_bike_counter_data"
   ]
  },
  {
   "cell_type": "code",
   "execution_count": null,
   "metadata": {},
   "outputs": [],
   "source": [
    "# Plot settings\n",
    "from pandas.plotting import register_matplotlib_converters\n",
    "register_matplotlib_converters()\n",
    "\n",
    "plt.style.use('seaborn')\n",
    "TITLE_FONTSIZE = 16\n",
    "\n",
    "%matplotlib inline"
   ]
  },
  {
   "cell_type": "markdown",
   "metadata": {},
   "source": [
    "## Get data"
   ]
  },
  {
   "cell_type": "markdown",
   "metadata": {},
   "source": [
    "Download and read the data of all bike counters.\n",
    "\n",
    "Each counter has one or more 'channels', which correspond to a cycling direction. The actual direction is not specified in the data, so for now we'll just consider the total count across all channels."
   ]
  },
  {
   "cell_type": "code",
   "execution_count": null,
   "metadata": {
    "scrolled": false
   },
   "outputs": [],
   "source": [
    "hourly = get_edinburgh_bike_counter_data()\n",
    "hourly.tail()"
   ]
  },
  {
   "cell_type": "code",
   "execution_count": null,
   "metadata": {},
   "outputs": [],
   "source": [
    "# Define variables for later convenience\n",
    "daily = hourly.resample('D').sum().replace(0, np.NaN)\n",
    "counters = list(hourly.columns)\n",
    "n_counters = len(counters)\n",
    "n_cols = 5  # for grid plots\n",
    "n_rows = math.ceil(n_counters / n_cols)  # for grid plots"
   ]
  },
  {
   "cell_type": "markdown",
   "metadata": {},
   "source": [
    "## Bike counter operating days"
   ]
  },
  {
   "cell_type": "markdown",
   "metadata": {},
   "source": [
    "When were the bike counters turned on and counting bikes?"
   ]
  },
  {
   "cell_type": "code",
   "execution_count": null,
   "metadata": {},
   "outputs": [],
   "source": [
    "def get_datetime_ranges(datetimes, bin_size='D'):\n",
    "    \"\"\"Given a list of sorted datetimes, return a list\n",
    "    of datetime ranges [(start, end), (...)] that\n",
    "    correspond to periods without gaps at the bin_size\n",
    "    resolution.\n",
    "    \n",
    "    \"\"\"\n",
    "    datetime_ranges = []\n",
    "    start = datetimes[0]\n",
    "    for i in range(1, len(datetimes)):\n",
    "        if (datetimes[i].to_period(bin_size) -\n",
    "            datetimes[i - 1].to_period(bin_size)).n > 1:\n",
    "            end = datetimes[i - 1]\n",
    "            datetime_ranges.append((start, end))\n",
    "            start = datetimes[i]\n",
    "    end = datetimes[-1]\n",
    "    datetime_ranges.append((start, end))\n",
    "    return datetime_ranges"
   ]
  },
  {
   "cell_type": "code",
   "execution_count": null,
   "metadata": {},
   "outputs": [],
   "source": [
    "plt.figure(figsize=(8, 12))\n",
    "for y, counter in enumerate(counters):\n",
    "    operating_days = daily[counter].dropna().index\n",
    "    operating_day_ranges = get_datetime_ranges(operating_days, bin_size='D')\n",
    "    for operating_day_range in operating_day_ranges:\n",
    "        plt.hlines(y, operating_day_range[0], operating_day_range[1])\n",
    "\n",
    "plt.title('Bike counter operating days', fontsize=TITLE_FONTSIZE)\n",
    "plt.yticks(range(n_counters), counters);"
   ]
  },
  {
   "cell_type": "markdown",
   "metadata": {},
   "source": [
    "We see two distinct sets of bike counters. In early 2015, the first set stopped operating and the second started. Only two bike counters span the entire time period. We also see there are many large and small data gaps.\n",
    "\n",
    "Are there any days of the week on which the bike counters were operating less (or more)?"
   ]
  },
  {
   "cell_type": "code",
   "execution_count": null,
   "metadata": {},
   "outputs": [],
   "source": [
    "fig, ax = plt.subplots(n_rows, n_cols, figsize=(16, 16))\n",
    "for i, counter in enumerate(counters):\n",
    "    current_ax = ax[i // n_cols][i % n_cols]\n",
    "    operating_days = daily[counter].dropna().index\n",
    "    operating_dayofweek_counts = operating_days.dayofweek.value_counts().sort_index()\n",
    "    operating_dayofweek_counts.plot(ax=current_ax,\n",
    "                                    kind='bar',\n",
    "                                    title=counter,\n",
    "                                    ylim=(0, 350))\n",
    "    current_ax.set_xticklabels(list(calendar.day_abbr), rotation=0);\n",
    "    \n",
    "fig.suptitle('Distribution of operating days over the days of the week', y=1.02, fontsize=TITLE_FONTSIZE)\n",
    "plt.tight_layout()"
   ]
  },
  {
   "cell_type": "markdown",
   "metadata": {},
   "source": [
    "All days appear to be equally represented in the dataset. This means we can just average over all available data to look at hourly and daily trends."
   ]
  },
  {
   "cell_type": "markdown",
   "metadata": {},
   "source": [
    "## Hourly and daily trends"
   ]
  },
  {
   "cell_type": "markdown",
   "metadata": {},
   "source": [
    "Let's look at the hourly trend first."
   ]
  },
  {
   "cell_type": "code",
   "execution_count": null,
   "metadata": {},
   "outputs": [],
   "source": [
    "hourly_trend = hourly.groupby(hourly.index.hour).mean()\n",
    "\n",
    "fig, ax = plt.subplots(n_rows, n_cols, figsize=(16, 16))\n",
    "for i, counter in enumerate(counters):\n",
    "    current_ax = ax[i // n_cols][i % n_cols]\n",
    "    hourly_trend[counter].plot(ax=current_ax,\n",
    "                               title=counter,\n",
    "                               ylim=(0, 125))\n",
    "    \n",
    "fig.suptitle('Hourly trend of bike activity', y=1.02, fontsize=TITLE_FONTSIZE)\n",
    "plt.tight_layout()"
   ]
  },
  {
   "cell_type": "markdown",
   "metadata": {},
   "source": [
    "By keeping the limits of the y-axis the same, we can easily see that some roads are much busier than others. Nearly all roads show a bimodal traffic pattern with a peak in the morning and a peak in the afternoon, corresponding to rush hour. On Bruntsfield Place, the separate counters for the northbound (into the city) and southbound (out of the city) directions show relatively large peaks going into the city in the morning and out of the city in the afternoon, which matches our expectation of commuting flows. If we were to look further into cycling direction, we would have to consider the bike counter channels separately and 'guess' the direction.\n",
    "\n",
    "How about the daily trend?"
   ]
  },
  {
   "cell_type": "code",
   "execution_count": null,
   "metadata": {},
   "outputs": [],
   "source": [
    "daily_trend = daily.groupby(daily.index.dayofweek).mean()\n",
    "\n",
    "fig, ax = plt.subplots(n_rows, n_cols, figsize=(16, 16))\n",
    "for i, counter in enumerate(counters):\n",
    "    current_ax = ax[i // n_cols][i % n_cols]\n",
    "    daily_trend[counter].plot(ax=current_ax,\n",
    "                              kind='bar',\n",
    "                              title=counter)\n",
    "    current_ax.set_xticklabels(list(calendar.day_abbr), rotation=0);\n",
    "    \n",
    "fig.suptitle('Daily trend of bike activity', y=1.02, fontsize=TITLE_FONTSIZE)\n",
    "plt.tight_layout()"
   ]
  },
  {
   "cell_type": "markdown",
   "metadata": {},
   "source": [
    "Note that we use flexible y-axis limits to highlight the relative variation throughout the week. We see that for most counters the bike activity is much higher on weekdays than in the weekend. Silverknowes, Cramond, and Dalmeny - in a lovely area to the northwest of Edinburgh - are more popular with cyclists in the weekend. "
   ]
  },
  {
   "cell_type": "markdown",
   "metadata": {},
   "source": [
    "## Unsupervised clustering"
   ]
  },
  {
   "cell_type": "markdown",
   "metadata": {},
   "source": [
    "In this section, we will closely follow the approach described by [Jake Vanderplas](https://jakevdp.github.io/blog/2015/07/23/learning-seattles-work-habits-from-bicycle-counts/) to cluster days for one of the bike counters. The example we'll pick is from Portobello Promenade, a cycle path along the beach that I occasionally used to get to and from work.\n",
    "\n",
    "Note that we'll reuse some of the variable names in the code. `hourly` will from now on contain data of only one counter instead of all of them."
   ]
  },
  {
   "cell_type": "code",
   "execution_count": null,
   "metadata": {},
   "outputs": [],
   "source": [
    "COUNTER_NAME = '20portobellopromeast'\n",
    "\n",
    "hourly_all = hourly.copy()  # keep original dataset with all counters\n",
    "hourly = pd.DataFrame(hourly_all[COUNTER_NAME].dropna())"
   ]
  },
  {
   "cell_type": "markdown",
   "metadata": {},
   "source": [
    "First we transform the data to a 2D matrix with days as rows and hours as columns."
   ]
  },
  {
   "cell_type": "code",
   "execution_count": null,
   "metadata": {},
   "outputs": [],
   "source": [
    "hourly_pivoted = hourly.pivot_table(index=hourly.index.date,\n",
    "                                    columns=hourly.index.hour,\n",
    "                                    fill_value=0)\n",
    "X = hourly_pivoted.values"
   ]
  },
  {
   "cell_type": "markdown",
   "metadata": {},
   "source": [
    "We then reduce the dimensionality of the matrix from 24 to 2 using principal component analysis (PCA), which will allow us to create a scatter plot and visually look for clusters. As you can see below, the 2 components we get still preserve 81% of the variance in the dataset."
   ]
  },
  {
   "cell_type": "code",
   "execution_count": null,
   "metadata": {},
   "outputs": [],
   "source": [
    "n_components = 2\n",
    "pca = PCA(n_components)\n",
    "Xpca = pca.fit_transform(X)\n",
    "print(f'Preserved variance with {n_components} components: {pca.explained_variance_ratio_.sum():.3f}')"
   ]
  },
  {
   "cell_type": "code",
   "execution_count": null,
   "metadata": {},
   "outputs": [],
   "source": [
    "plt.figure(figsize=(6, 6))\n",
    "plt.scatter(Xpca[:, 0], Xpca[:, 1]);"
   ]
  },
  {
   "cell_type": "markdown",
   "metadata": {},
   "source": [
    "Looks like the days can be nicely split in two clusters. We'll use a Gaussian Mixture model to automatically label the points."
   ]
  },
  {
   "cell_type": "code",
   "execution_count": null,
   "metadata": {},
   "outputs": [],
   "source": [
    "gmm = GaussianMixture(2, covariance_type='full', random_state=0)\n",
    "gmm.fit(Xpca)\n",
    "cluster_label = gmm.predict(Xpca)"
   ]
  },
  {
   "cell_type": "code",
   "execution_count": null,
   "metadata": {},
   "outputs": [],
   "source": [
    "plt.figure(figsize=(6, 6))\n",
    "plt.scatter(Xpca[:, 0], Xpca[:, 1], c=cluster_label, cmap='Set1');"
   ]
  },
  {
   "cell_type": "markdown",
   "metadata": {},
   "source": [
    "Not bad! The red points belong to cluster 0, the gray ones to cluster 1. Let's see what the hourly trends look like for the two clusters.  "
   ]
  },
  {
   "cell_type": "code",
   "execution_count": null,
   "metadata": {},
   "outputs": [],
   "source": [
    "hourly_pivoted['cluster'] = cluster_label\n",
    "hourly_labeled = hourly.join(hourly_pivoted['cluster'], on=hourly.index.date)\n",
    "hourly_trend = hourly_labeled.groupby(['cluster', hourly_labeled.index.hour]).mean()"
   ]
  },
  {
   "cell_type": "code",
   "execution_count": null,
   "metadata": {},
   "outputs": [],
   "source": [
    "fig, ax = plt.subplots(1, 2, figsize=(16, 6))\n",
    "for i in range(2):\n",
    "    hourly_trend.loc[i].plot(ax=ax[i], legend=False)\n",
    "    ax[i].set_title(f'cluster {i}')\n",
    "fig.suptitle('Hourly trend of bike activity', y=1.02, fontsize=TITLE_FONTSIZE);"
   ]
  },
  {
   "cell_type": "markdown",
   "metadata": {},
   "source": [
    "Nice! Cluster 0 shows the typical commuting flows from weekdays while cluster 1 shows the more recreational cycling you'd expect to see in the weekend. We can confirm this by coloring the scatter plot points by day of the week... "
   ]
  },
  {
   "cell_type": "code",
   "execution_count": null,
   "metadata": {},
   "outputs": [],
   "source": [
    "hourly_pivoted['dayofweek'] = pd.to_datetime(hourly_pivoted.index).dayofweek\n",
    "hourly_pivoted['is_weekend'] = hourly_pivoted['dayofweek'] > 4"
   ]
  },
  {
   "cell_type": "code",
   "execution_count": null,
   "metadata": {},
   "outputs": [],
   "source": [
    "plt.figure(figsize=(8, 6))\n",
    "plt.scatter(Xpca[:, 0], Xpca[:, 1], c=hourly_pivoted['dayofweek'],\n",
    "            cmap=plt.cm.get_cmap('jet', 7))\n",
    "cb = plt.colorbar(ticks=range(7))\n",
    "cb.set_ticklabels(['Mon', 'Tue', 'Wed', 'Thu', 'Fri', 'Sat', 'Sun'])\n",
    "plt.clim(-0.5, 6.5);"
   ]
  },
  {
   "cell_type": "markdown",
   "metadata": {},
   "source": [
    "... or counting the number of weekdays and weekend days within each cluster."
   ]
  },
  {
   "cell_type": "code",
   "execution_count": null,
   "metadata": {},
   "outputs": [],
   "source": [
    "hourly_pivoted.groupby(['cluster', 'is_weekend']).size()"
   ]
  },
  {
   "cell_type": "markdown",
   "metadata": {},
   "source": [
    "The weekdays in the 'weekend-like' cluster 1 are likely holidays. But there are two days I'd like to look further into:\n",
    "1. The only weekend day in the 'weekday-like' cluster 0\n",
    "2. The weekend day outlier at the top of the scatter plot"
   ]
  },
  {
   "cell_type": "code",
   "execution_count": null,
   "metadata": {},
   "outputs": [],
   "source": [
    "weekend_day_in_cluster_0 = hourly_pivoted.loc[(hourly_pivoted['cluster'] == 0) &\n",
    "                                              hourly_pivoted['is_weekend']].index.astype(str)[0]\n",
    "hourly[weekend_day_in_cluster_0].plot(figsize=(8, 6),\n",
    "                                      legend=False,\n",
    "                                      title=f'Bike activity on {weekend_day_in_cluster_0}');"
   ]
  },
  {
   "cell_type": "markdown",
   "metadata": {},
   "source": [
    "Morning rush hour on a Saturday! [Looks like](http://markusstitz.com/capital-trail/) we caught the start of the inaugural ride of the Capital Trail, a two-day bikepacking route near Edinburgh. Not your usual morning commute."
   ]
  },
  {
   "cell_type": "code",
   "execution_count": null,
   "metadata": {},
   "outputs": [],
   "source": [
    "weekend_day_outlier = hourly_pivoted.index[(Xpca[:, 1] > 150)].astype(str)[0]\n",
    "hourly[weekend_day_outlier].plot(figsize=(8, 6),\n",
    "                                 legend=False,\n",
    "                                 title=f'Bike activity on {weekend_day_outlier}');"
   ]
  },
  {
   "cell_type": "markdown",
   "metadata": {},
   "source": [
    "That's a lot more cyclists than usual for cluster 1. It's not much to go by, but [this page](https://www.edinburghbiketours.co.uk/EBT/node/2916/contact) on Edinburgh bike tours says \"City Centre Holyrood Park Portobello Guided Tour on Saturday, 26th September 2015 (10:30)\". Guess that explains it!"
   ]
  }
 ],
 "metadata": {
  "kernelspec": {
   "display_name": "Python 3",
   "language": "python",
   "name": "python3"
  },
  "language_info": {
   "codemirror_mode": {
    "name": "ipython",
    "version": 3
   },
   "file_extension": ".py",
   "mimetype": "text/x-python",
   "name": "python",
   "nbconvert_exporter": "python",
   "pygments_lexer": "ipython3",
   "version": "3.7.3"
  }
 },
 "nbformat": 4,
 "nbformat_minor": 2
}
