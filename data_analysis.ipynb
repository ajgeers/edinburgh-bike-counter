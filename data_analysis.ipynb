{
 "cells": [
  {
   "cell_type": "markdown",
   "metadata": {},
   "source": [
    "# Edinburgh bike counter\n",
    "\n",
    "Arjan Geers\n",
    "\n",
    "Analysis of [Edinburgh bike counter data](https://data.edinburghopendata.info/dataset/bike-counter-data-set-cluster)."
   ]
  },
  {
   "cell_type": "markdown",
   "metadata": {},
   "source": [
    "## Preamble"
   ]
  },
  {
   "cell_type": "code",
   "execution_count": null,
   "metadata": {},
   "outputs": [],
   "source": [
    "%load_ext autoreload\n",
    "%autoreload 2"
   ]
  },
  {
   "cell_type": "code",
   "execution_count": null,
   "metadata": {},
   "outputs": [],
   "source": [
    "import matplotlib\n",
    "import matplotlib.pyplot as plt\n",
    "import pandas as pd\n",
    "\n",
    "from bikecounter.data import get_edinburgh_bike_counter_data"
   ]
  },
  {
   "cell_type": "code",
   "execution_count": null,
   "metadata": {},
   "outputs": [],
   "source": [
    "%matplotlib inline\n",
    "plt.style.use('seaborn')"
   ]
  },
  {
   "cell_type": "markdown",
   "metadata": {},
   "source": [
    "## Get data"
   ]
  },
  {
   "cell_type": "markdown",
   "metadata": {},
   "source": [
    "Download and read the data of all bike counters. Each counter has one or more 'channels', which correspond to directions such as northbound and southbound. For now, we'll just consider the total count across all channels."
   ]
  },
  {
   "cell_type": "code",
   "execution_count": null,
   "metadata": {
    "scrolled": false
   },
   "outputs": [],
   "source": [
    "df = get_edinburgh_bike_counter_data()\n",
    "df.tail()"
   ]
  },
  {
   "cell_type": "markdown",
   "metadata": {},
   "source": [
    "## Bike counter activity"
   ]
  },
  {
   "cell_type": "markdown",
   "metadata": {},
   "source": [
    "Check on what days the bike counters counted at least one bike."
   ]
  },
  {
   "cell_type": "code",
   "execution_count": null,
   "metadata": {},
   "outputs": [],
   "source": [
    "def get_datetime_ranges(datetimes, bin_size='D'):\n",
    "    \"\"\"Given a list of sorted datetimes, return a list\n",
    "    of datetime ranges [(start, end), (...)] that\n",
    "    correspond to periods without gaps at the bin_size\n",
    "    resolution.\n",
    "    \n",
    "    \"\"\"\n",
    "    datetime_ranges = []\n",
    "    start = datetimes[0]\n",
    "    for i in range(1, len(datetimes)):\n",
    "        if (datetimes[i].to_period(bin_size) -\n",
    "            datetimes[i - 1].to_period(bin_size)).n > 1:\n",
    "            end = datetimes[i - 1]\n",
    "            datetime_ranges.append((start, end))\n",
    "            start = datetimes[i]\n",
    "    end = datetimes[-1]\n",
    "    datetime_ranges.append((start, end))\n",
    "    return datetime_ranges"
   ]
  },
  {
   "cell_type": "code",
   "execution_count": null,
   "metadata": {},
   "outputs": [],
   "source": [
    "dfr = df.resample('D').sum()\n",
    "\n",
    "fig, ax = plt.subplots(figsize=(8, 12))\n",
    "for y, bike_counter in enumerate(dfr.columns):\n",
    "    active = dfr[bike_counter].where(dfr[bike_counter] > 0).dropna().index\n",
    "    active_ranges = get_datetime_ranges(active, bin_size=on 'D')\n",
    "    for active_range in active_ranges:\n",
    "        ax.hlines(y, active_range[0], active_range[1])\n",
    "\n",
    "\n",
    "ax.set_title('Days with bike counter activity')\n",
    "plt.yticks(range(len(dfr.columns)), dfr.columns);"
   ]
  },
  {
   "cell_type": "markdown",
   "metadata": {},
   "source": [
    "We notice two distinct sets of bike counters. '01' to '19' were active from 2008 to 2015 and '20' to '48' from 2015 to 2016. Only '27' and '28' were active throughout both periods.\n",
    "\n",
    "There are many large and small gaps in the time series. Gaps often appear at the same time for the second set of counters."
   ]
  },
  {
   "cell_type": "code",
   "execution_count": null,
   "metadata": {},
   "outputs": [],
   "source": []
  }
 ],
 "metadata": {
  "kernelspec": {
   "display_name": "Python 3",
   "language": "python",
   "name": "python3"
  },
  "language_info": {
   "codemirror_mode": {
    "name": "ipython",
    "version": 3
   },
   "file_extension": ".py",
   "mimetype": "text/x-python",
   "name": "python",
   "nbconvert_exporter": "python",
   "pygments_lexer": "ipython3",
   "version": "3.7.3"
  }
 },
 "nbformat": 4,
 "nbformat_minor": 2
}
